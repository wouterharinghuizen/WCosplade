{
 "cells": [
  {
   "cell_type": "markdown",
   "metadata": {},
   "source": [
    "# download the datasets:"
   ]
  },
  {
   "cell_type": "markdown",
   "metadata": {},
   "source": [
    "first download this dataset and place it in a folder called CANARD: https://sites.google.com/view/qanta/projects/canard .<br>\n",
    "It will give you 3 json files which will be preprocessed like in the CoSPLADE paper (formula 3 and 4)."
   ]
  },
  {
   "cell_type": "markdown",
   "metadata": {},
   "source": [
    "The dataset looks like this:\n",
    "\n",
    "```[\n",
    "    {\n",
    "        \"History\": [\n",
    "            \"Frank Zappa\",\n",
    "            \"Disbandment\"\n",
    "        ],\n",
    "        \"QuAC_dialog_id\": \"C_2d211835213b45588ad5ca868ce7fabd_0\",\n",
    "        \"Question\": \"What group disbanded?\",\n",
    "        \"Question_no\": 1,\n",
    "        \"Rewrite\": \"What group disbanded?\"\n",
    "    },\n",
    "    {\n",
    "        \"History\": [\n",
    "            \"Frank Zappa\",\n",
    "            \"Disbandment\",\n",
    "            \"What group disbanded?\",\n",
    "            \"Zappa and the Mothers of Invention\"\n",
    "        ],\n",
    "        \"QuAC_dialog_id\": \"C_2d211835213b45588ad5ca868ce7fabd_0\",\n",
    "        \"Question\": \"When did they disband?\",\n",
    "        \"Question_no\": 2,\n",
    "        \"Rewrite\": \"When did Zappa and the Mothers of Invention disband?\"\n",
    "    },\n",
    "    {\n",
    "```\n",
    "\n",
    "More info can be found on the link to the dataset."
   ]
  },
  {
   "cell_type": "code",
   "execution_count": 42,
   "metadata": {},
   "outputs": [
    {
     "name": "stdout",
     "output_type": "stream",
     "text": [
      "just an example from the devset:\n",
      "answers representations\n",
      "['What kind of music did they play? [SEP] Disbandment', 'What kind of music did they play? [SEP] Zappa and the Mothers of Invention', 'What kind of music did they play? [SEP] In late 1969, Zappa broke up the band.']\n",
      "quesries representations\n",
      "Frank Zappa [SEP] Disbandment [SEP] What group disbanded? [SEP] When did they disband? [SEP] What kind of music did they play? [SEP] Why did they break up? [SEP] Why were there financial problems?\twhy did he think the band lacked effort?\n"
     ]
    }
   ],
   "source": [
    "import pandas as pd\n",
    "import json\n",
    "\n",
    "def process_canard_json(json_file, dataset_name):\n",
    "    data = []\n",
    "    with open(json_file, \"r\") as cn_dev:\n",
    "        obj = json.load(cn_dev)\n",
    "        for turn in obj:\n",
    "            id = turn['QuAC_dialog_id'] + \"_\" + str(turn['Question_no'])\n",
    "            \n",
    "            # Compute k based on the length of the history\n",
    "            n = len(turn['History'])  # Total length of the history\n",
    "            k = n - 1  # Choose k as n-1 to include all previous answers\n",
    "            \n",
    "            # Include the existing history at the first question\n",
    "            if turn['Question_no'] == 1:\n",
    "                queries_representation = \" [SEP] \".join(turn['History']) + \"\\t\" + turn['Question']\n",
    "            else:\n",
    "                # Rewrite the representation for \\hat{q}_n^{\\text {queries }}\n",
    "                queries_representation = \" [SEP] \".join(turn['History'][:2] + turn['History'][2::2]) + \"\\t\" + turn['Question']\n",
    "            \n",
    "            # Calculate separate SPLADE representations for each answer and store them in a list\n",
    "            answers_representations = []\n",
    "            for i in range(1, n, 2):  # Start from index 1 and step by 2 to get only answers\n",
    "                answer_representation = f\"{turn['Question']} [SEP] {turn['History'][i]}\"\n",
    "                answers_representations.append(answer_representation)\n",
    "            \n",
    "            data.append({'id': id, f'{dataset_name}_queries_representation': queries_representation, f'{dataset_name}_answers_representations': answers_representations})\n",
    "        \n",
    "    df = pd.DataFrame(data)\n",
    "    return df\n",
    "\n",
    "\n",
    "\n",
    "# Example usage:\n",
    "json_file_name = \"CANARD/dev.json\"  # Replace with the actual JSON file name\n",
    "dataset_name = \"dev\"  # Replace with \"train\" or \"test\" as needed\n",
    "dev_df = process_canard_json(json_file_name, dataset_name)\n",
    "print(\"just an example from the devset:\")\n",
    "print(\"answers representations\")\n",
    "print(dev_df[f'{dataset_name}_answers_representations'][2])\n",
    "print(\"quesries representations\")\n",
    "print(dev_df[f'{dataset_name}_queries_representation'][5])\n",
    "\n",
    "json_file_name = \"CANARD/train.json\"  # Replace with the actual JSON file name\n",
    "dataset_name = \"train\"  # Replace with \"train\" or \"test\" as needed\n",
    "train_df = process_canard_json(json_file_name, dataset_name)\n",
    "\n",
    "json_file_name = \"CANARD/test.json\"  # Replace with the actual JSON file name\n",
    "dataset_name = \"test\"  # Replace with \"train\" or \"test\" as needed\n",
    "test_df = process_canard_json(json_file_name, dataset_name)\n"
   ]
  },
  {
   "cell_type": "code",
   "execution_count": null,
   "metadata": {},
   "outputs": [],
   "source": []
  }
 ],
 "metadata": {
  "kernelspec": {
   "display_name": "Python 3",
   "language": "python",
   "name": "python3"
  },
  "language_info": {
   "codemirror_mode": {
    "name": "ipython",
    "version": 3
   },
   "file_extension": ".py",
   "mimetype": "text/x-python",
   "name": "python",
   "nbconvert_exporter": "python",
   "pygments_lexer": "ipython3",
   "version": "3.9.5"
  }
 },
 "nbformat": 4,
 "nbformat_minor": 4
}
